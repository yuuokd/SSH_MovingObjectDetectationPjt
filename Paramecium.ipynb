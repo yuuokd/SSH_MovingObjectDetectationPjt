{
 "cells": [
  {
   "cell_type": "markdown",
   "metadata": {},
   "source": [
    "まずAnaconda(https://www.anaconda.com/) をインストール。インストール方法はググれば出てきます。\n",
    "\n",
    "Anacondaをインストールしたら、AnacondaPromptを起動して、$ pip install opencv-pythonを入力してOpenCVをインストールする。\n",
    "\n",
    "その後、下のセルが実行できるか確かめる。"
   ]
  },
  {
   "cell_type": "code",
   "execution_count": 1,
   "metadata": {},
   "outputs": [
    {
     "name": "stdout",
     "output_type": "stream",
     "text": [
      "4.1.1\n",
      "1.16.5\n"
     ]
    }
   ],
   "source": [
    "import cv2\n",
    "import numpy as np\n",
    "print(cv2.__version__)\n",
    "print(np.__version__)"
   ]
  },
  {
   "cell_type": "markdown",
   "metadata": {},
   "source": [
    "プログラムファイルが置いてあるディレクトリと同じ場所に動画ファイルを置いておく。wmv、mp4、aviは確実に対応しているっぽいです。\n",
    "\n",
    "実行すると、ファイル名の入力を求められるのでファイル名を拡張子まで入力する。入力すると、元の動画と背景差分で動いているものだけを切り抜いた動画がウインドウに表示されて、同時に背景差分された動画が.aviで保存されます。処理が終わると自動で実行終了されますが、Escキーで抜ける。"
   ]
  },
  {
   "cell_type": "code",
   "execution_count": 2,
   "metadata": {},
   "outputs": [
    {
     "name": "stdout",
     "output_type": "stream",
     "text": [
      "ファイル名を入力してください(拡張子を含む)\n",
      "2.wmv\n"
     ]
    }
   ],
   "source": [
    "import os\n",
    "import cv2\n",
    "import numpy as np\n",
    "\n",
    "# 定数定義\n",
    "ESC_KEY = 27     # Escキー\n",
    "INTERVAL= 10     # インターバル\n",
    "FRAME_RATE = 15  # fps\n",
    "\n",
    "WINDOW_ORG = \"orginal\"\n",
    "WINDOW_DIFF = \"diff\"\n",
    "\n",
    "print(\"ファイル名を入力してください(拡張子を含む)\")\n",
    "FILE_ORG = input()\n",
    "filename, ext = os.path.splitext(FILE_ORG)\n",
    "\n",
    "# ウィンドウの準備\n",
    "cv2.namedWindow(WINDOW_ORG, cv2.WINDOW_NORMAL)\n",
    "cv2.namedWindow(WINDOW_DIFF, cv2.WINDOW_NORMAL)\n",
    "\n",
    "# 元ビデオファイル読み込み\n",
    "mov_org = cv2.VideoCapture(FILE_ORG)\n",
    "\n",
    "# 比較用の最初のフレーム読み込み\n",
    "ret, frame = mov_org.read()\n",
    "\n",
    "# 背景フレーム\n",
    "back_frame = np.zeros_like(frame, np.float32)\n",
    "\n",
    "# 出力動画のコーデック設定\n",
    "width = int(mov_org.get(cv2.CAP_PROP_FRAME_WIDTH))\n",
    "height = int(mov_org.get(cv2.CAP_PROP_FRAME_HEIGHT))\n",
    "fps = mov_org.get(cv2.CAP_PROP_FPS)\n",
    "fourcc = cv2.VideoWriter_fourcc(*'XVID')\n",
    "mov_out = cv2.VideoWriter(filename + '_output.avi', fourcc, fps, (width,height))\n",
    "\n",
    "# 変換処理ループ\n",
    "while ret == True:\n",
    "    # 入力画像を浮動小数点型に変換\n",
    "    flt32_frame = frame.astype(np.float32)\n",
    "\n",
    "    # 差分計算\n",
    "    diff_frame = cv2.absdiff(flt32_frame, back_frame)\n",
    "\n",
    "    # 背景の更新\n",
    "    cv2.accumulateWeighted(flt32_frame, back_frame, 0.1)\n",
    "\n",
    "    # フレーム表示\n",
    "    cv2.imshow(WINDOW_ORG, frame)\n",
    "    cv2.imshow(WINDOW_DIFF, diff_frame.astype(np.uint8))\n",
    "\n",
    "    # 背景差分フレームを動画に出力\n",
    "    mov_out.write(diff_frame.astype(np.uint8))\n",
    "    \n",
    "    # Escキーで終了\n",
    "    key = cv2.waitKey(INTERVAL)\n",
    "    if key == ESC_KEY:\n",
    "        break\n",
    "\n",
    "    # 次のフレーム読み込み\n",
    "    ret, frame = mov_org.read()\n",
    "\n",
    "# 終了処理\n",
    "cv2.destroyAllWindows()\n",
    "mov_org.release()\n",
    "mov_out.release()"
   ]
  },
  {
   "cell_type": "code",
   "execution_count": null,
   "metadata": {},
   "outputs": [],
   "source": []
  }
 ],
 "metadata": {
  "kernelspec": {
   "display_name": "Python 3",
   "language": "python",
   "name": "python3"
  },
  "language_info": {
   "codemirror_mode": {
    "name": "ipython",
    "version": 3
   },
   "file_extension": ".py",
   "mimetype": "text/x-python",
   "name": "python",
   "nbconvert_exporter": "python",
   "pygments_lexer": "ipython3",
   "version": "3.6.9"
  }
 },
 "nbformat": 4,
 "nbformat_minor": 2
}
